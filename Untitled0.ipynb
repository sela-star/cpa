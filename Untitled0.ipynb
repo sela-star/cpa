{
  "nbformat": 4,
  "nbformat_minor": 0,
  "metadata": {
    "colab": {
      "provenance": [],
      "authorship_tag": "ABX9TyPNpPqG6ICOmH/P8q+fWwc0",
      "include_colab_link": true
    },
    "kernelspec": {
      "name": "python3",
      "display_name": "Python 3"
    },
    "language_info": {
      "name": "python"
    }
  },
  "cells": [
    {
      "cell_type": "markdown",
      "metadata": {
        "id": "view-in-github",
        "colab_type": "text"
      },
      "source": [
        "<a href=\"https://colab.research.google.com/github/sela-star/cpa/blob/main/Untitled0.ipynb\" target=\"_parent\"><img src=\"https://colab.research.google.com/assets/colab-badge.svg\" alt=\"Open In Colab\"/></a>"
      ]
    },
    {
      "cell_type": "code",
      "source": [
        "from sklearn.preprocessing import StandardScaler\n",
        "from sklearn.decomposition import PCA\n",
        "import pandas as pd\n",
        "\n",
        "data = pd.DataFrame({\n",
        "    'X': [2.5, 0.5, 2.2, 1.9, 3.1, 2.3, 2.0, 1.0, 1.5, 1.1],\n",
        "    'Y': [2.4, 0.7, 2.9, 2.2, 3.0, 2.7, 1.6, 1.1, 1.6, 0.9]\n",
        "})\n",
        "\n",
        "\n",
        "print(\"Data Latihan (Sampel):\")\n",
        "print(data.head())\n",
        "\n",
        "numeric_features = data.columns.tolist()\n",
        "\n",
        "scaler = StandardScaler()\n",
        "data_scaled = scaler.fit_transform(data)\n",
        "\n",
        "print(\"\\nData Setelah Standarisasi:\")\n",
        "print(pd.DataFrame(data_scaled, columns=numeric_features).head())\n",
        "\n",
        "pca = PCA(n_components=2)\n",
        "data_pca = pca.fit_transform(data_scaled)\n",
        "\n",
        "explained_variance_ratio = pca.explained_variance_ratio_\n",
        "explained_variance_ratio_df = pd.DataFrame(\n",
        "    explained_variance_ratio,\n",
        "    columns=['Explained Variance Ratio'],\n",
        "    index=['PC1', 'PC2']\n",
        ")\n",
        "\n",
        "print(\"\\nHasil Transformasi PCA:\")\n",
        "print(pd.DataFrame(data_pca, columns=['PC1', 'PC2']).head())\n",
        "\n",
        "print(\"\\nNilai Persentase Kontribusi Setiap Fitur:\")\n",
        "print(explained_variance_ratio_df)"
      ],
      "metadata": {
        "colab": {
          "base_uri": "https://localhost:8080/"
        },
        "id": "v20VWyy_cpty",
        "outputId": "952cb143-3255-498e-efdc-ca113d4aaff6"
      },
      "execution_count": 7,
      "outputs": [
        {
          "output_type": "stream",
          "name": "stdout",
          "text": [
            "Data Latihan (Sampel):\n",
            "     X    Y\n",
            "0  2.5  2.4\n",
            "1  0.5  0.7\n",
            "2  2.2  2.9\n",
            "3  1.9  2.2\n",
            "4  3.1  3.0\n",
            "\n",
            "Data Setelah Standarisasi:\n",
            "          X         Y\n",
            "0  0.926279  0.610169\n",
            "1 -1.758587 -1.506743\n",
            "2  0.523549  1.232790\n",
            "3  0.120819  0.361120\n",
            "4  1.731739  1.357314\n",
            "\n",
            "Hasil Transformasi PCA:\n",
            "        PC1       PC2\n",
            "0  1.086432 -0.223524\n",
            "1 -2.308937  0.178081\n",
            "2  1.241919  0.501509\n",
            "3  0.340782  0.169919\n",
            "4  2.184290 -0.264758\n",
            "\n",
            "Nilai Persentase Kontribusi Setiap Fitur:\n",
            "     Explained Variance Ratio\n",
            "PC1                  0.962965\n",
            "PC2                  0.037035\n"
          ]
        }
      ]
    },
    {
      "cell_type": "code",
      "source": [
        "print(\"\\nNilai Persentase Kontribusi Setiap Fitur:\")\n",
        "print(explained_variance_ratio_df)\n"
      ],
      "metadata": {
        "colab": {
          "base_uri": "https://localhost:8080/"
        },
        "id": "tx5ZpR1Yc5kw",
        "outputId": "b00eed35-f9c7-48c0-9364-46c5a2131998"
      },
      "execution_count": 8,
      "outputs": [
        {
          "output_type": "stream",
          "name": "stdout",
          "text": [
            "\n",
            "Nilai Persentase Kontribusi Setiap Fitur:\n",
            "     Explained Variance Ratio\n",
            "PC1                  0.962965\n",
            "PC2                  0.037035\n"
          ]
        }
      ]
    },
    {
      "cell_type": "code",
      "source": [
        "import matplotlib.pyplot as plt\n",
        "\n",
        "plt.figure(figsize=(8, 6))\n",
        "plt.scatter(data_pca[:, 0], data_pca[:, 1], color='blue', marker='o')\n",
        "plt.title('PCA: Komponen Utama 1 vs Komponen Utama 2')\n",
        "plt.xlabel('PC1')\n",
        "plt.ylabel('PC2')\n",
        "plt.grid(True)\n",
        "plt.show()\n"
      ],
      "metadata": {
        "colab": {
          "base_uri": "https://localhost:8080/",
          "height": 564
        },
        "id": "S-K624lNdHnh",
        "outputId": "f121ffbb-c047-437f-d854-333be7966024"
      },
      "execution_count": 9,
      "outputs": [
        {
          "output_type": "display_data",
          "data": {
            "text/plain": [
              "<Figure size 800x600 with 1 Axes>"
            ],
            "image/png": "[encoded data removed]"
          },
          "metadata": {}
        }
      ]
    },
    {
      "cell_type": "code",
      "source": [
        "pca = PCA(n_components=2)\n",
        "data_pca = pca.fit_transform(data_scaled)\n",
        "\n",
        "import matplotlib.pyplot as plt\n",
        "\n",
        "plt.figure(figsize=(8, 6))\n",
        "plt.scatter(data_pca[:, 0], data_pca[:, 1], color='blue', marker='o')\n",
        "plt.title('PCA: Komponen Utama 1 vs Komponen Utama 2')\n",
        "plt.xlabel('PC1')\n",
        "plt.ylabel('PC2')\n",
        "plt.grid(True)\n",
        "plt.show()\n"
      ],
      "metadata": {
        "colab": {
          "base_uri": "https://localhost:8080/",
          "height": 564
        },
        "id": "yGpPiNfcdzg-",
        "outputId": "d1889bad-eebd-43a3-a77a-c096714ad94b"
      },
      "execution_count": 12,
      "outputs": [
        {
          "output_type": "display_data",
          "data": {
            "text/plain": [
              "<Figure size 800x600 with 1 Axes>"
            ],
            "image/png": "[encoded data removed]"
          },
          "metadata": {}
        }
      ]
    },
    {
      "cell_type": "code",
      "source": [
        "print(\"\\nData yang Diproyeksikan ke dalam Komponen Utama:\")\n",
        "print(pd.DataFrame(data_pca, columns=['PC1', 'PC2']).head())\n"
      ],
      "metadata": {
        "colab": {
          "base_uri": "https://localhost:8080/"
        },
        "id": "PAjkH2MWd87Q",
        "outputId": "133b3459-3ee0-4ca4-8dd4-583efeacb179"
      },
      "execution_count": 13,
      "outputs": [
        {
          "output_type": "stream",
          "name": "stdout",
          "text": [
            "\n",
            "Data yang Diproyeksikan ke dalam Komponen Utama:\n",
            "        PC1       PC2\n",
            "0  1.086432 -0.223524\n",
            "1 -2.308937  0.178081\n",
            "2  1.241919  0.501509\n",
            "3  0.340782  0.169919\n",
            "4  2.184290 -0.264758\n"
          ]
        }
      ]
    },
    {
      "cell_type": "code",
      "source": [
        "from sklearn.svm import SVC\n",
        "from sklearn.model_selection import train_test_split\n",
        "\n",
        "labels = [1, 0, 1, 0, 1, 0, 1, 0, 1, 0]\n",
        "\n",
        "X_train, X_test, y_train, y_test = train_test_split(data_pca, labels, test_size=0.3, random_state=42)\n",
        "\n",
        "model = SVC()\n",
        "model.fit(X_train, y_train)\n",
        "\n",
        "accuracy = model.score(X_test, y_test)\n",
        "print(\"\\nAkurasi Model SVM:\", accuracy)\n"
      ],
      "metadata": {
        "colab": {
          "base_uri": "https://localhost:8080/"
        },
        "id": "dbyf5r8leFXF",
        "outputId": "8bd5fffd-444b-4332-b8d3-b2423754ba64"
      },
      "execution_count": 14,
      "outputs": [
        {
          "output_type": "stream",
          "name": "stdout",
          "text": [
            "\n",
            "Akurasi Model SVM: 0.3333333333333333\n"
          ]
        }
      ]
    },
    {
      "cell_type": "code",
      "source": [
        "plt.savefig('pca_plot.png')\n"
      ],
      "metadata": {
        "colab": {
          "base_uri": "https://localhost:8080/",
          "height": 34
        },
        "id": "aBL2nR9LePX5",
        "outputId": "1e38c1a9-bd88-4d3d-f73a-d845b5150a31"
      },
      "execution_count": 15,
      "outputs": [
        {
          "output_type": "display_data",
          "data": {
            "text/plain": [
              "<Figure size 640x480 with 0 Axes>"
            ]
          },
          "metadata": {}
        }
      ]
    },
    {
      "cell_type": "code",
      "source": [
        "pd.DataFrame(data_pca, columns=['PC1', 'PC2']).to_csv('data_pca.csv', index=False)\n"
      ],
      "metadata": {
        "id": "10Hcv3_KeZli"
      },
      "execution_count": 17,
      "outputs": []
    }
  ]
}